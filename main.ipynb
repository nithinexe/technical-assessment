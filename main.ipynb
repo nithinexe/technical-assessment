{
 "cells": [
  {
   "cell_type": "code",
   "execution_count": 1,
   "metadata": {},
   "outputs": [
    {
     "name": "stdout",
     "output_type": "stream",
     "text": [
      "Note: you may need to restart the kernel to use updated packages.\n"
     ]
    }
   ],
   "source": [
    "%pip install langchain tiktoken langchain-openai langchain-chroma --quiet"
   ]
  },
  {
   "cell_type": "code",
   "execution_count": 1,
   "metadata": {},
   "outputs": [],
   "source": [
    "import dotenv\n",
    "from langchain_community.document_loaders.generic import GenericLoader\n",
    "from langchain_community.document_loaders.parsers import LanguageParser\n",
    "from langchain_text_splitters import Language\n"
   ]
  },
  {
   "cell_type": "code",
   "execution_count": 2,
   "metadata": {},
   "outputs": [
    {
     "data": {
      "text/plain": [
       "True"
      ]
     },
     "execution_count": 2,
     "metadata": {},
     "output_type": "execute_result"
    }
   ],
   "source": [
    "dotenv.load_dotenv()\n"
   ]
  },
  {
   "cell_type": "code",
   "execution_count": 22,
   "metadata": {},
   "outputs": [
    {
     "data": {
      "text/plain": [
       "95"
      ]
     },
     "execution_count": 22,
     "metadata": {},
     "output_type": "execute_result"
    }
   ],
   "source": [
    "repo_path = \"/Users/sunny/projects/onfinance/RAG/data\"\n",
    "loader = GenericLoader.from_filesystem(\n",
    "    repo_path + \"/api-reference/src\",\n",
    "    glob=\"**/*\",\n",
    "    suffixes=[\".ts\"],\n",
    "    parser=LanguageParser(parser_threshold=500),\n",
    "    # encoding=\"original_encoding\"\n",
    ")\n",
    "documents = loader.load()\n",
    "# utf8_documents = [doc.encode('utf-8') for doc in documents]\n",
    "len(documents)"
   ]
  },
  {
   "cell_type": "code",
   "execution_count": 23,
   "metadata": {},
   "outputs": [
    {
     "data": {
      "text/plain": [
       "1232"
      ]
     },
     "execution_count": 23,
     "metadata": {},
     "output_type": "execute_result"
    }
   ],
   "source": [
    "from langchain_text_splitters import RecursiveCharacterTextSplitter\n",
    "ts_splitter = RecursiveCharacterTextSplitter.from_language(language=\"ts\",chunk_size=250, chunk_overlap=100)\n",
    "texts = ts_splitter.split_documents(documents)\n",
    "len(texts)"
   ]
  },
  {
   "cell_type": "code",
   "execution_count": 24,
   "metadata": {},
   "outputs": [],
   "source": [
    "from langchain_chroma import Chroma\n",
    "from langchain_openai import OpenAIEmbeddings\n",
    "\n",
    "db = Chroma.from_documents(texts, OpenAIEmbeddings(disallowed_special=()))\n",
    "retriever = db.as_retriever(\n",
    "    search_type=\"mmr\",\n",
    "    search_kwargs={\"k\":8}\n",
    ")\n"
   ]
  },
  {
   "cell_type": "code",
   "execution_count": 30,
   "metadata": {},
   "outputs": [],
   "source": [
    "from langchain.chains import create_history_aware_retriever, create_retrieval_chain\n",
    "from langchain.chains.combine_documents import create_stuff_documents_chain\n",
    "from langchain_core.prompts import ChatPromptTemplate\n",
    "from langchain_openai import ChatOpenAI\n",
    "\n",
    "llm = ChatOpenAI(model=\"gpt-4\")\n",
    "\n",
    "# First we need a prompt that we can pass into an LLM to generate this search query\n",
    "\n",
    "prompt = ChatPromptTemplate.from_messages(\n",
    "    [\n",
    "        (\"placeholder\", \"{chat_history}\"),\n",
    "        (\"user\", \"{input}\"),\n",
    "        (\n",
    "            \"user\",\n",
    "            \"Given the above conversation, generate a search query to look up to get information relevant to the conversation\",\n",
    "        ),\n",
    "    ]\n",
    ")\n",
    "\n",
    "retriever_chain = create_history_aware_retriever(llm, retriever, prompt)\n",
    "\n",
    "prompt = ChatPromptTemplate.from_messages(\n",
    "    [\n",
    "        (\n",
    "            \"system\",\n",
    "            \" You an AI trained to write code for automation tasks. With respect to the usecase, example and query provided by the user, generate fully functional code to perform the specific task. As there is not max_token limit, generate code entirely, without leaving any place holders, or continuation backticks. Use the reference context examples provided, and try to use trigger.dev in all the cases. :\\n\\n{context}\",\n",
    "        ),\n",
    "        (\"placeholder\", \"{chat_history}\"),\n",
    "        (\"user\", \"{input}\"),\n",
    "    ]\n",
    ")\n",
    "document_chain = create_stuff_documents_chain(llm, prompt)\n",
    "\n",
    "qa = create_retrieval_chain(retriever_chain, document_chain)"
   ]
  },
  {
   "cell_type": "code",
   "execution_count": 29,
   "metadata": {},
   "outputs": [
    {
     "name": "stdout",
     "output_type": "stream",
     "text": [
      "Here is the fully functional code to perform the task:\n",
      "\n",
      "```javascript\n",
      "const { Client, eventTrigger } = require(\"@trigger.dev/sdk\");\n",
      "const { google } = require(\"googleapis\");\n",
      "const z = require(\"zod\");\n",
      "const axios = require('axios');\n",
      "const mysql = require('mysql');\n",
      "\n",
      "const client = new Client();\n",
      "\n",
      "client.defineJob({\n",
      "  id: \"sql-query-email\",\n",
      "  name: \"SQL Query and Send Email\",\n",
      "  version: \"1.0.0\",\n",
      "  trigger: eventTrigger({\n",
      "    name: \"sql-query-email\",\n",
      "    schema: z.object({\n",
      "      sql: z.string(),\n",
      "    }),\n",
      "  }),\n",
      "  integrations: {\n",
      "    google,\n",
      "    axios,\n",
      "    mysql,\n",
      "  },\n",
      "  run: async (payload, io, ctx) => {\n",
      "    const connection = mysql.createConnection({\n",
      "      host: 'localhost',\n",
      "      user: 'root',\n",
      "      password: 'password',\n",
      "      database: 'database_name'\n",
      "    });\n",
      "\n",
      "    connection.query(payload.sql, (err, rows) => {\n",
      "      if (err) throw err;\n",
      "      if (!rows.length) {\n",
      "        const gmail = google.gmail({ version: \"v1\", auth });\n",
      "        const message = {\n",
      "          to: 'recipient@gmail.com',\n",
      "          subject: 'SQL Query Result',\n",
      "          text: 'The SQL query returned no results.',\n",
      "        };\n",
      "\n",
      "        gmail.users.messages.send({\n",
      "          userId: 'me',\n",
      "          requestBody: {\n",
      "            raw: Buffer.from(message).toString('base64')\n",
      "          }\n",
      "        }, (err, res) => {\n",
      "          if (err) return console.log('The API returned an error: ' + err);\n",
      "          io.logger.info(`Message sent: ${res.data}`);\n",
      "        });\n",
      "      }\n",
      "    });\n",
      "  }\n",
      "});\n",
      "\n",
      "client.defineJob({\n",
      "  id: \"parse-gmail-response\",\n",
      "  name: \"Parse Gmail Response\",\n",
      "  version: \"1.0.0\",\n",
      "  trigger: eventTrigger({\n",
      "    name: \"parse-gmail-response\",\n",
      "    schema: z.object({\n",
      "      messageId: z.string(),\n",
      "    }),\n",
      "  }),\n",
      "  integrations: {\n",
      "    google,\n",
      "    axios,\n",
      "    mysql,\n",
      "  },\n",
      "  run: async (payload, io, ctx) => {\n",
      "    const gmail = google.gmail({ version: \"v1\", auth });\n",
      "    gmail.users.messages.get({\n",
      "      userId: 'me',\n",
      "      id: payload.messageId,\n",
      "    }, async (err, res) => {\n",
      "      if (err) return console.log('The API returned an error: ' + err);\n",
      "      const responseText = res.data.payload.body.data;\n",
      "\n",
      "      const connection = mysql.createConnection({\n",
      "        host: 'localhost',\n",
      "        user: 'root',\n",
      "        password: 'password',\n",
      "        database: 'database_name'\n",
      "      });\n",
      "\n",
      "      connection.query('INSERT INTO table_name (column_name) VALUES (?)', [responseText], (err, result) => {\n",
      "        if (err) throw err;\n",
      "        io.logger.info(`Response inserted: ${result}`);\n",
      "      });\n",
      "    });\n",
      "  }\n",
      "});\n",
      "\n",
      "// Webhook to trigger the job when a user replies to the email\n",
      "app.post('/webhook', (req, res) => {\n",
      "  const messageId = req.body.messageId;\n",
      "  client.runJob(\"parse-gmail-response\", { messageId });\n",
      "  res.status(200).end();\n",
      "});\n",
      "```\n",
      "\n",
      "Please replace the placeholders with your actual values. This code is assuming that you have already authenticated your app with Gmail API.\n",
      "\n",
      "Prerequisites:\n",
      "\n",
      "- Install the following packages: `npm install @trigger.dev/sdk googleapis zod axios mysql express`\n",
      "- Setup Gmail API: https://developers.google.com/gmail/api/quickstart/nodejs\n",
      "- Make sure to set up a webhook in your Gmail account to call your '/webhook' endpoint whenever a user replies to the email.\n"
     ]
    }
   ],
   "source": [
    "question = \"Whenever an SQL query returns a blank result, send an email via Gmail based on certain parameters. Whenever the user replies to the email, trigger a webhook to parse and insert gmail response data into the SQL table again. Generate the code, webhooks, automation, etc what ever is needed to perform this task \"\n",
    "result = qa.invoke({\"input\": question})\n",
    "print(result[\"answer\"])"
   ]
  },
  {
   "cell_type": "code",
   "execution_count": null,
   "metadata": {},
   "outputs": [],
   "source": []
  }
 ],
 "metadata": {
  "kernelspec": {
   "display_name": "venv",
   "language": "python",
   "name": "python3"
  },
  "language_info": {
   "codemirror_mode": {
    "name": "ipython",
    "version": 3
   },
   "file_extension": ".py",
   "mimetype": "text/x-python",
   "name": "python",
   "nbconvert_exporter": "python",
   "pygments_lexer": "ipython3",
   "version": "3.9.18"
  }
 },
 "nbformat": 4,
 "nbformat_minor": 2
}
